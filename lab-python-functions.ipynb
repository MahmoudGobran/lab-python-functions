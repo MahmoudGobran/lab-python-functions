{
 "cells": [
  {
   "cell_type": "markdown",
   "id": "25d7736c-ba17-4aff-b6bb-66eba20fbf4e",
   "metadata": {},
   "source": [
    "# Lab | Functions"
   ]
  },
  {
   "cell_type": "markdown",
   "id": "0c581062-8967-4d93-b06e-62833222f930",
   "metadata": {
    "tags": []
   },
   "source": [
    "## Exercise: Managing Customer Orders with Functions\n",
    "\n",
    "In the previous exercise, you improved the code for managing customer orders by using loops and flow control. Now, let's take it a step further and refactor the code by introducing functions.\n",
    "\n",
    "Follow the steps below to complete the exercise:\n",
    "\n",
    "1. Define a function named `initialize_inventory` that takes `products` as a parameter. Inside the function, implement the code for initializing the inventory dictionary using a loop and user input.\n",
    "\n",
    "2. Define a function named `get_customer_orders` that takes no parameters. Inside the function, implement the code for prompting the user to enter the product names using a loop. The function should return the `customer_orders` set.\n",
    "\n",
    "3. Define a function named `update_inventory` that takes `customer_orders` and `inventory` as parameters. Inside the function, implement the code for updating the inventory dictionary based on the customer orders.\n",
    "\n",
    "4. Define a function named `calculate_order_statistics` that takes `customer_orders` and `products` as parameters. Inside the function, implement the code for calculating the order statistics (total products ordered, and percentage of unique products ordered). The function should return these values.\n",
    "\n",
    "5. Define a function named `print_order_statistics` that takes `order_statistics` as a parameter. Inside the function, implement the code for printing the order statistics.\n",
    "\n",
    "6. Define a function named `print_updated_inventory` that takes `inventory` as a parameter. Inside the function, implement the code for printing the updated inventory.\n",
    "\n",
    "7. Call the functions in the appropriate sequence to execute the program and manage customer orders.\n",
    "\n",
    "Hints for functions:\n",
    "\n",
    "- Consider the input parameters required for each function and their return values.\n",
    "- Utilize function parameters and return values to transfer data between functions.\n",
    "- Test your functions individually to ensure they work correctly.\n",
    "\n",
    "\n"
   ]
  },
  {
   "cell_type": "code",
   "execution_count": 1,
   "id": "2daeb06e",
   "metadata": {},
   "outputs": [
    {
     "name": "stdout",
     "output_type": "stream",
     "text": [
      "\n",
      "Order Statistics:\n",
      "Total Products Ordered: 3\n",
      "Percentage of Unique Products Ordered: 60.0 %\n",
      "\n",
      "Updated Inventory:\n",
      "t-shirt: 5\n",
      "mug: 3\n",
      "hat: 2\n",
      "book: 1\n",
      "keychain: 1\n"
     ]
    }
   ],
   "source": [
    "def initialize_inventory(products):\n",
    "    inventory = {}\n",
    "    for product in products:\n",
    "        quantity = int(input(\"Enter the quantity of \" + product + \"s available: \"))\n",
    "        inventory[product] = quantity\n",
    "    return inventory\n",
    "\n",
    "def get_customer_orders():\n",
    "    customer_orders = set()\n",
    "    num_orders = int(input(\"Enter the number of customer orders: \"))\n",
    "    for i in range(num_orders):\n",
    "        product = input(\"Enter product \" + str(i + 1) + \": \")\n",
    "        customer_orders.add(product)\n",
    "    return customer_orders\n",
    "\n",
    "def update_inventory(inventory, customer_orders):\n",
    "    for product in customer_orders:\n",
    "        if product in inventory and inventory[product] > 0:\n",
    "            inventory[product] -= 1\n",
    "    # remove items with zero quantity\n",
    "    for product in list(inventory):\n",
    "        if inventory[product] == 0:\n",
    "            del inventory[product]\n",
    "    return inventory\n",
    "\n",
    "def main():\n",
    "    products = [\"t-shirt\", \"mug\", \"hat\", \"book\", \"keychain\"]\n",
    "    \n",
    "    inventory = initialize_inventory(products)\n",
    "    customer_orders = get_customer_orders()\n",
    "\n",
    "    total_ordered = len(customer_orders)\n",
    "    percentage_ordered = (total_ordered * 100) / len(products)\n",
    "\n",
    "    print(\"\\nOrder Statistics:\")\n",
    "    print(\"Total Products Ordered:\", total_ordered)\n",
    "    print(\"Percentage of Unique Products Ordered:\", percentage_ordered, \"%\")\n",
    "\n",
    "    inventory = update_inventory(inventory, customer_orders)\n",
    "\n",
    "    print(\"\\nUpdated Inventory:\")\n",
    "    for product in inventory:\n",
    "        print(product + \":\", inventory[product])\n",
    "\n",
    "main()\n"
   ]
  },
  {
   "cell_type": "code",
   "execution_count": null,
   "id": "00e3bcf6",
   "metadata": {},
   "outputs": [],
   "source": []
  }
 ],
 "metadata": {
  "kernelspec": {
   "display_name": "base",
   "language": "python",
   "name": "python3"
  },
  "language_info": {
   "codemirror_mode": {
    "name": "ipython",
    "version": 3
   },
   "file_extension": ".py",
   "mimetype": "text/x-python",
   "name": "python",
   "nbconvert_exporter": "python",
   "pygments_lexer": "ipython3",
   "version": "3.12.4"
  }
 },
 "nbformat": 4,
 "nbformat_minor": 5
}
